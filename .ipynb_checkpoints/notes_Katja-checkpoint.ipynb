{
 "cells": [
  {
   "cell_type": "markdown",
   "id": "cea13deb-a197-4402-a0e0-ec2341984dee",
   "metadata": {},
   "source": [
    "Einleitung\n",
    "- Simulation einer Epidemie von stark ansteckenden und schweren Krankheiten am Beispiel einer Zombieapokalypse\n",
    "- zu beantwortende Fragen\n",
    "    - Wann Apokalypse?\n",
    "    - Wann Happy End?\n",
    "    - Gibt es Gleichgewicht (auch zyklisch/periodisch möglich)?\n",
    "    - Maßnahmen, die zum Schutz der Bevölkerung/ Bekämpfung der Epidemie vorgenommen werden könnten"
   ]
  },
  {
   "cell_type": "markdown",
   "id": "5b6d37ad-663a-41bd-a184-4bb3946b9693",
   "metadata": {},
   "source": [
    "Material & Methoden\n",
    "- zwei Methoden: SIR-Modell und Petri-Netze\n",
    "- Darstellung grundsätzliches Modell in Abbildung 1\n",
    "- drei Gruppen: Susceptible (S), Infected (I), Removed (R)\n",
    "- Susceptible (S) können infziert werden (SI) oder sterben durch Zombies (SR)\n",
    "- Infected (I), also Zombies, können nur durch Gewalteinwirkung von Menschen getötet werden (IR), können auch nicht geheilt werden\n",
    "- Removed (R), also Tote, können nicht wiederbelebt werden\n",
    "- keine Helden, da bereits in Zombietötungsrate indirekt berücksichtigt\n",
    "- Geburten- und Sterberate vernachlässigbar\n",
    "\n",
    "- Software: Python 3.11.7 und JupyterLab 3.6.7\n",
    "- Betriebssysteme: Windows 11 Home und MacOs 14.5\n",
    "\n",
    "SIR-Modell\n",
    "- Veränderung der Gruppen über Differentialgleichungen\n",
    "    - Formel 1 für Susceptible (S)\n",
    "    - Formel 2 für Infected (I)\n",
    "    - Formel 3 für Removed (R)\n",
    "- Lösung über Integrale\n",
    "- Parameter der Differentialgleichungen näher erläutern?\n",
    "- Änderungen von Parametern während der Simulation möglich\n",
    "    - Austeilen von Rüstung: Verringerung der Infektions- und Tötungsrate durch Zombies\n",
    "    - Quarantäne: Verringerung der Kontaktrate\n",
    "    - Waffen: Erhöhung der Zombietötungsrate\n",
    "\n",
    "Petri-Netze\n",
    "- Veränderung der Gruppen über Zufallsentscheidungen von Schaltungen einzelner Tokens\n",
    "    - Generation einer Zufallszahl die entscheidet, ob eine Ansteckung, Tötung eines Menschen, Tötung eines Zombies oder nichts geschieht\n",
    "    - Simulation endet, wenn Susceptible (S) oder Infected (I) 0 sind"
   ]
  },
  {
   "cell_type": "markdown",
   "id": "d7a6fe2d-b4ca-4f29-8422-a8dbd21eb455",
   "metadata": {},
   "source": [
    "Ergebnisse\n",
    "- Start Susceptible (S) mit 99,9999 %\n",
    "- Start Infected (I) mit 0,0001 %\n",
    "- Start Removed (R) mit 0 %\n",
    "\n",
    "SIR-Modell\n",
    "- Darstellung einzelner Gruppen in Prozent auf der Y-Achse und Tage auf der X-Achse\n",
    "- Szenario für BaseCase, Apokalypse und Happy End\n",
    "- mögliche Maßnahmen (Simulation zu verschiedenen Zeitpunkten? Ausstattung nicht direkt möglich [Beschaffung notwendig])\n",
    "    - nach 14d, 21d, 28d Kombi \"Defensive + Offensive\"\n",
    "    - nach 21d \"Defensive\": Quarantäne (Reduzierung der Kontaktrate) und Ausstattung mit Rüstung (Reduzierung Infektions- und Tötungsrate von Menschen durch Zombies)\n",
    "    - nach 21d \"Offensive\": Ausstattung mit Waffen (Erhöhung Zombietötungsrate durch Menschen)\n",
    "- zu beantwortende Fragen\n",
    "    - Nach wie vielen Tagen vorbei?\n",
    "    - Endbevölkerung/Tote?\n",
    "    - höchste Prozentzahl Infizierte\n",
    "    - welche Raten wurden verwendet?\n",
    "\n",
    "Petri-Netz\n",
    "- Darstellung einzelner Gruppen in Prozent auf der Y-Achse und Stunden auf der X-Achse\n",
    "- Szenario für BaseCase\n",
    "- zu beantwortende Fragen\n",
    "    - Nach wie vielen Tagen vorbei?\n",
    "    - Endbevölkerung/Tote?\n",
    "    - höchste Prozentzahl Infizierte\n",
    "    - welche Raten wurden verwendet?"
   ]
  },
  {
   "cell_type": "markdown",
   "id": "e008d0f8-5104-4739-bbbf-3e0413f895e5",
   "metadata": {},
   "source": [
    "Diskussion\n",
    "- Wann kam es zu welchen Szenarien und warum?\n",
    "- Welche Maßnahmen sinnvoll oder am effizientesten?\n",
    "- Probleme der Modelle?\n",
    "    - SIR-Modell sehr einfach, aber stellt nicht unbedingt die Realität da; Erweiterung notwendig?\n",
    "    - Petri-Netz zufällig, daher hohe Varibilität der Ergebnisse möglich\n",
    "- weiterführende Untersuchungen\n",
    "    - örtliche Simulation über mehrere lokale SIR-Modelle (ggf. lokale Quarantäne und Flughafensperrungen simulierbar)\n",
    "    - Simulation unterschiedlicher Krankheitsstadien (höhere und niedrigere Infektiösität? Motalität?)\n",
    "    - Simulation anderer Krankheiten (z.B. heilbare Krankheiten, tödliche Krankheiten)"
   ]
  },
  {
   "cell_type": "markdown",
   "id": "5748f04d-dc95-4687-baa6-bd34bac08e6d",
   "metadata": {},
   "source": [
    "Zusammenfassung\n",
    "- Was ist bei einer Zombieapokalypse zu beachten? Was wirkt sich negativ auf den Verlauf aus?\n",
    "- Welche Maßnahmen sollten vorgenommen werden?\n",
    "- Was könnte noch untersucht/verbessert werden?"
   ]
  },
  {
   "cell_type": "markdown",
   "id": "73befa6f-2e24-4f2c-9a64-e191029c7c2c",
   "metadata": {},
   "source": [
    "Verweis auf GitHub"
   ]
  }
 ],
 "metadata": {
  "kernelspec": {
   "display_name": "Python 3 (ipykernel)",
   "language": "python",
   "name": "python3"
  },
  "language_info": {
   "codemirror_mode": {
    "name": "ipython",
    "version": 3
   },
   "file_extension": ".py",
   "mimetype": "text/x-python",
   "name": "python",
   "nbconvert_exporter": "python",
   "pygments_lexer": "ipython3",
   "version": "3.11.7"
  }
 },
 "nbformat": 4,
 "nbformat_minor": 5
}
